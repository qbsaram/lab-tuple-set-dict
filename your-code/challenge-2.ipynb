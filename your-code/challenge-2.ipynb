{
 "cells": [
  {
   "cell_type": "markdown",
   "metadata": {},
   "source": [
    "## Challenge 2: Sets\n",
    "\n",
    "There are a lot to learn about Python Sets and the information presented in the lesson is limited due to its length. To learn Python Sets in depth you are strongly encouraged to review the W3Schools tutorial on [Python Sets Examples and Methods](https://www.w3schools.com/python/python_sets.asp) before you work on this lab. Some difficult questions in this lab have their solutions in the W3Schools tutorial.\n",
    "\n",
    "#### First, import the Python `random` library."
   ]
  },
  {
   "cell_type": "code",
   "execution_count": 1,
   "metadata": {},
   "outputs": [],
   "source": [
    "import random"
   ]
  },
  {
   "cell_type": "markdown",
   "metadata": {},
   "source": [
    "#### In the cell below, create a list named `sample_list_1` with 80 random values. \n",
    "\n",
    "Requirements:\n",
    "\n",
    "* Each value is an integer falling between 0 and 100.\n",
    "* Each value in the list is unique.\n",
    "\n",
    "Print `sample_list_1` to review its values\n",
    "\n",
    "*Hint: use `random.sample` ([reference](https://docs.python.org/3/library/random.html#random.sample)).*"
   ]
  },
  {
   "cell_type": "code",
   "execution_count": 2,
   "metadata": {
    "scrolled": false
   },
   "outputs": [
    {
     "name": "stdout",
     "output_type": "stream",
     "text": [
      "[19, 74, 72, 70, 7, 69, 23, 10, 92, 37, 68, 99, 80, 14, 91, 46, 13, 28, 34, 40, 96, 35, 32, 30, 64, 17, 59, 26, 6, 48, 42, 31, 12, 25, 22, 94, 21, 39, 86, 41, 8, 75, 93, 65, 15, 78, 29, 11, 79, 88, 52, 53, 50, 67, 27, 20, 44, 33, 56, 73, 1, 43, 60, 38, 16, 54, 76, 62, 24, 51, 95, 47, 49, 81, 9, 3, 66, 83, 45, 89]\n"
     ]
    }
   ],
   "source": [
    "sample_list_1 = random.sample(range(0, 100), 80)\n",
    "print(sample_list_1)"
   ]
  },
  {
   "cell_type": "markdown",
   "metadata": {},
   "source": [
    "#### Convert `sample_list_1` to a set called `set1`. Print the length of the set. Is its length still 80?"
   ]
  },
  {
   "cell_type": "code",
   "execution_count": 3,
   "metadata": {},
   "outputs": [
    {
     "name": "stdout",
     "output_type": "stream",
     "text": [
      "{1, 3, 6, 7, 8, 9, 10, 11, 12, 13, 14, 15, 16, 17, 19, 20, 21, 22, 23, 24, 25, 26, 27, 28, 29, 30, 31, 32, 33, 34, 35, 37, 38, 39, 40, 41, 42, 43, 44, 45, 46, 47, 48, 49, 50, 51, 52, 53, 54, 56, 59, 60, 62, 64, 65, 66, 67, 68, 69, 70, 72, 73, 74, 75, 76, 78, 79, 80, 81, 83, 86, 88, 89, 91, 92, 93, 94, 95, 96, 99}\n"
     ]
    },
    {
     "data": {
      "text/plain": [
       "80"
      ]
     },
     "execution_count": 3,
     "metadata": {},
     "output_type": "execute_result"
    }
   ],
   "source": [
    "set1 = set(sample_list_1)\n",
    "print(set1)\n",
    "len(set1)\n"
   ]
  },
  {
   "cell_type": "markdown",
   "metadata": {},
   "source": [
    "#### Create another list named `sample_list_2` with 80 random values.\n",
    "\n",
    "Requirements:\n",
    "\n",
    "* Each value is an integer falling between 0 and 100.\n",
    "* The values in the list don't have to be unique.\n",
    "\n",
    "*Hint: Use a FOR loop and the `randrange()` function.*"
   ]
  },
  {
   "cell_type": "code",
   "execution_count": 4,
   "metadata": {},
   "outputs": [
    {
     "name": "stdout",
     "output_type": "stream",
     "text": [
      "[88, 99, 3, 37, 21, 86, 46, 71, 35, 100, 55, 1, 78, 35, 51, 50, 59, 32, 75, 79, 100, 70, 12, 14, 24, 22, 23, 29, 72, 82, 94, 40, 25, 14, 53, 42, 18, 35, 92, 3, 52, 47, 91, 95, 35, 15, 55, 8, 8, 54, 4, 43, 59, 33, 69, 42, 23, 49, 53, 86, 66, 87, 48, 67, 4, 4, 95, 39, 0, 93, 36, 91, 66, 52, 98, 8, 87, 63, 22, 18]\n"
     ]
    },
    {
     "data": {
      "text/plain": [
       "80"
      ]
     },
     "execution_count": 4,
     "metadata": {},
     "output_type": "execute_result"
    }
   ],
   "source": [
    "sample_list_2 = []\n",
    "\n",
    "for i in range(0, 80):\n",
    "    sample_list_2.append(random.randrange(0, 101))\n",
    "    \n",
    "print(sample_list_2)\n",
    "len(sample_list_2)"
   ]
  },
  {
   "cell_type": "markdown",
   "metadata": {},
   "source": [
    "#### Convert `sample_list_2` to a set called `set2`. Print the length of the set. Is its length still 80?"
   ]
  },
  {
   "cell_type": "code",
   "execution_count": 5,
   "metadata": {},
   "outputs": [
    {
     "name": "stdout",
     "output_type": "stream",
     "text": [
      "{0, 1, 3, 4, 8, 12, 14, 15, 18, 21, 22, 23, 24, 25, 29, 32, 33, 35, 36, 37, 39, 40, 42, 43, 46, 47, 48, 49, 50, 51, 52, 53, 54, 55, 59, 63, 66, 67, 69, 70, 71, 72, 75, 78, 79, 82, 86, 87, 88, 91, 92, 93, 94, 95, 98, 99, 100}\n"
     ]
    },
    {
     "data": {
      "text/plain": [
       "57"
      ]
     },
     "execution_count": 5,
     "metadata": {},
     "output_type": "execute_result"
    }
   ],
   "source": [
    "set2 = set(sample_list_2)\n",
    "print(set2)\n",
    "len(set2)\n",
    "\n",
    "#The length changes because list 2 includes same numbers sevral times, however sets only have unique numbers."
   ]
  },
  {
   "cell_type": "markdown",
   "metadata": {},
   "source": [
    "#### Identify the elements present in `set1` but not in `set2`. Assign the elements to a new set named `set3`."
   ]
  },
  {
   "cell_type": "code",
   "execution_count": 6,
   "metadata": {},
   "outputs": [
    {
     "name": "stdout",
     "output_type": "stream",
     "text": [
      "{6, 7, 9, 10, 11, 13, 16, 17, 19, 20, 26, 27, 28, 30, 31, 34, 38, 41, 44, 45, 56, 60, 62, 64, 65, 68, 73, 74, 76, 80, 81, 83, 89, 96}\n"
     ]
    }
   ],
   "source": [
    "set3 = []\n",
    "\n",
    "for i in set1:\n",
    "    if i not in set2:\n",
    "        set3.append(i)\n",
    "set3 = set(set3)        \n",
    "print(set3)\n"
   ]
  },
  {
   "cell_type": "markdown",
   "metadata": {},
   "source": [
    "#### Identify the elements present in `set2` but not in `set1`. Assign the elements to a new set named `set4`."
   ]
  },
  {
   "cell_type": "code",
   "execution_count": 7,
   "metadata": {},
   "outputs": [
    {
     "name": "stdout",
     "output_type": "stream",
     "text": [
      "{0, 98, 4, 36, 100, 71, 18, 82, 87, 55, 63}\n"
     ]
    }
   ],
   "source": [
    "set4 = []\n",
    "\n",
    "for nr in set2:\n",
    "    if nr not in set1:\n",
    "        set4.append(nr)\n",
    "set4 = set(set4)        \n",
    "print(set(set4))\n"
   ]
  },
  {
   "cell_type": "markdown",
   "metadata": {},
   "source": [
    "#### Now Identify the elements shared between `set1` and `set2`. Assign the elements to a new set named `set5`."
   ]
  },
  {
   "cell_type": "code",
   "execution_count": 8,
   "metadata": {},
   "outputs": [
    {
     "name": "stdout",
     "output_type": "stream",
     "text": [
      "{1, 3, 8, 12, 14, 15, 21, 22, 23, 24, 25, 29, 32, 33, 35, 37, 39, 40, 42, 43, 46, 47, 48, 49, 50, 51, 52, 53, 54, 59, 66, 67, 69, 70, 72, 75, 78, 79, 86, 88, 91, 92, 93, 94, 95, 99}\n"
     ]
    }
   ],
   "source": [
    "set5 = []\n",
    "\n",
    "for nbr in set1:\n",
    "    if nbr in set2:\n",
    "        set5.append(nbr)\n",
    "set5 = set(set5)        \n",
    "print(set(set5))"
   ]
  },
  {
   "cell_type": "markdown",
   "metadata": {},
   "source": [
    "#### What is the relationship among the following values:\n",
    "\n",
    "* len(set1)\n",
    "* len(set2)\n",
    "* len(set3)\n",
    "* len(set4)\n",
    "* len(set5)\n",
    "\n",
    "Think about the set operations that you used to create the sets and how the lengths of the sets are related to each other given those operations."
   ]
  },
  {
   "cell_type": "code",
   "execution_count": 9,
   "metadata": {},
   "outputs": [
    {
     "name": "stdout",
     "output_type": "stream",
     "text": [
      "80\n",
      "57\n",
      "34\n",
      "11\n",
      "46\n"
     ]
    }
   ],
   "source": [
    "a = len(set1)\n",
    "b = len(set2)\n",
    "c = len(set3)\n",
    "d = len(set4)\n",
    "e = len(set5)\n",
    "\n",
    "print(a)\n",
    "print(b)\n",
    "print(c)\n",
    "print(d)\n",
    "print(e)"
   ]
  },
  {
   "cell_type": "markdown",
   "metadata": {},
   "source": [
    "#### Create an empty set called `set6`."
   ]
  },
  {
   "cell_type": "code",
   "execution_count": 10,
   "metadata": {
    "scrolled": false
   },
   "outputs": [],
   "source": [
    "set6 = set()\n"
   ]
  },
  {
   "cell_type": "markdown",
   "metadata": {},
   "source": [
    "#### Add `set3` and `set5` to `set6` using the Python Set `update` method."
   ]
  },
  {
   "cell_type": "code",
   "execution_count": 11,
   "metadata": {
    "scrolled": true
   },
   "outputs": [
    {
     "name": "stdout",
     "output_type": "stream",
     "text": [
      "{1, 3, 6, 7, 8, 9, 10, 11, 12, 13, 14, 15, 16, 17, 19, 20, 21, 22, 23, 24, 25, 26, 27, 28, 29, 30, 31, 32, 33, 34, 35, 37, 38, 39, 40, 41, 42, 43, 44, 45, 46, 47, 48, 49, 50, 51, 52, 53, 54, 56, 59, 60, 62, 64, 65, 66, 67, 68, 69, 70, 72, 73, 74, 75, 76, 78, 79, 80, 81, 83, 86, 88, 89, 91, 92, 93, 94, 95, 96, 99}\n",
      "{0, 1, 3, 4, 8, 12, 14, 15, 18, 21, 22, 23, 24, 25, 29, 32, 33, 35, 36, 37, 39, 40, 42, 43, 46, 47, 48, 49, 50, 51, 52, 53, 54, 55, 59, 63, 66, 67, 69, 70, 71, 72, 75, 78, 79, 82, 86, 87, 88, 91, 92, 93, 94, 95, 98, 99, 100}\n",
      "{6, 7, 9, 10, 11, 13, 16, 17, 19, 20, 26, 27, 28, 30, 31, 34, 38, 41, 44, 45, 56, 60, 62, 64, 65, 68, 73, 74, 76, 80, 81, 83, 89, 96}\n",
      "{0, 98, 4, 36, 100, 71, 18, 82, 87, 55, 63}\n",
      "{1, 3, 8, 12, 14, 15, 21, 22, 23, 24, 25, 29, 32, 33, 35, 37, 39, 40, 42, 43, 46, 47, 48, 49, 50, 51, 52, 53, 54, 59, 66, 67, 69, 70, 72, 75, 78, 79, 86, 88, 91, 92, 93, 94, 95, 99}\n",
      "set()\n"
     ]
    }
   ],
   "source": [
    "print(set1)\n",
    "print(set2)\n",
    "print(set3)\n",
    "print(set4)\n",
    "print(set5)\n",
    "print(set6)"
   ]
  },
  {
   "cell_type": "code",
   "execution_count": 12,
   "metadata": {
    "scrolled": true
   },
   "outputs": [
    {
     "name": "stdout",
     "output_type": "stream",
     "text": [
      "{1, 3, 6, 7, 8, 9, 10, 11, 12, 13, 14, 15, 16, 17, 19, 20, 21, 22, 23, 24, 25, 26, 27, 28, 29, 30, 31, 32, 33, 34, 35, 37, 38, 39, 40, 41, 42, 43, 44, 45, 46, 47, 48, 49, 50, 51, 52, 53, 54, 56, 59, 60, 62, 64, 65, 66, 67, 68, 69, 70, 72, 73, 74, 75, 76, 78, 79, 80, 81, 83, 86, 88, 89, 91, 92, 93, 94, 95, 96, 99}\n"
     ]
    }
   ],
   "source": [
    "set6.update(set5, set3)\n",
    "print(set6)"
   ]
  },
  {
   "cell_type": "code",
   "execution_count": 13,
   "metadata": {},
   "outputs": [
    {
     "name": "stdout",
     "output_type": "stream",
     "text": [
      "{1, 3, 6, 7, 8, 9, 10, 11, 12, 13, 14, 15, 16, 17, 19, 20, 21, 22, 23, 24, 25, 26, 27, 28, 29, 30, 31, 32, 33, 34, 35, 37, 38, 39, 40, 41, 42, 43, 44, 45, 46, 47, 48, 49, 50, 51, 52, 53, 54, 56, 59, 60, 62, 64, 65, 66, 67, 68, 69, 70, 72, 73, 74, 75, 76, 78, 79, 80, 81, 83, 86, 88, 89, 91, 92, 93, 94, 95, 96, 99}\n"
     ]
    }
   ],
   "source": [
    "set6.update(set3)\n",
    "print(set6)"
   ]
  },
  {
   "cell_type": "markdown",
   "metadata": {},
   "source": [
    "#### Check if `set1` and `set6` are equal."
   ]
  },
  {
   "cell_type": "code",
   "execution_count": 14,
   "metadata": {},
   "outputs": [
    {
     "data": {
      "text/plain": [
       "True"
      ]
     },
     "execution_count": 14,
     "metadata": {},
     "output_type": "execute_result"
    }
   ],
   "source": [
    "set1 == set6"
   ]
  },
  {
   "cell_type": "markdown",
   "metadata": {},
   "source": [
    "#### Check if `set1` contains `set2` using the Python Set `issubset` method. Then check if `set1` contains `set3`."
   ]
  },
  {
   "cell_type": "code",
   "execution_count": 15,
   "metadata": {},
   "outputs": [
    {
     "name": "stdout",
     "output_type": "stream",
     "text": [
      "False\n"
     ]
    }
   ],
   "source": [
    "y = set2.issubset(set1)\n",
    "print(y)"
   ]
  },
  {
   "cell_type": "code",
   "execution_count": 16,
   "metadata": {},
   "outputs": [
    {
     "name": "stdout",
     "output_type": "stream",
     "text": [
      "True\n"
     ]
    }
   ],
   "source": [
    "x = set3.issubset(set1)\n",
    "print(x)"
   ]
  },
  {
   "cell_type": "markdown",
   "metadata": {},
   "source": [
    "#### Using the Python Set `union` method, aggregate `set3`, `set4`, and `set5`. Then aggregate `set1` and `set2`. \n",
    "\n",
    "#### Check if the aggregated values are equal."
   ]
  },
  {
   "cell_type": "code",
   "execution_count": 17,
   "metadata": {
    "scrolled": true
   },
   "outputs": [
    {
     "name": "stdout",
     "output_type": "stream",
     "text": [
      "{0, 1, 3, 4, 6, 7, 8, 9, 10, 11, 12, 13, 14, 15, 16, 17, 18, 19, 20, 21, 22, 23, 24, 25, 26, 27, 28, 29, 30, 31, 32, 33, 34, 35, 36, 37, 38, 39, 40, 41, 42, 43, 44, 45, 46, 47, 48, 49, 50, 51, 52, 53, 54, 55, 56, 59, 60, 62, 63, 64, 65, 66, 67, 68, 69, 70, 71, 72, 73, 74, 75, 76, 78, 79, 80, 81, 82, 83, 86, 87, 88, 89, 91, 92, 93, 94, 95, 96, 98, 99, 100}\n"
     ]
    },
    {
     "data": {
      "text/plain": [
       "True"
      ]
     },
     "execution_count": 17,
     "metadata": {},
     "output_type": "execute_result"
    }
   ],
   "source": [
    "z = set3.union(set4, set5)\n",
    "print(z)\n",
    "\n",
    "y = set1.union(set2)\n",
    "\n",
    "y == z\n"
   ]
  },
  {
   "cell_type": "markdown",
   "metadata": {},
   "source": [
    "#### Using the `pop` method, remove the first element from `set1`."
   ]
  },
  {
   "cell_type": "code",
   "execution_count": 18,
   "metadata": {},
   "outputs": [
    {
     "name": "stdout",
     "output_type": "stream",
     "text": [
      "{1, 3, 6, 7, 8, 9, 10, 11, 12, 13, 14, 15, 16, 17, 19, 20, 21, 22, 23, 24, 25, 26, 27, 28, 29, 30, 31, 32, 33, 34, 35, 37, 38, 39, 40, 41, 42, 43, 44, 45, 46, 47, 48, 49, 50, 51, 52, 53, 54, 56, 59, 60, 62, 64, 65, 66, 67, 68, 69, 70, 72, 73, 74, 75, 76, 78, 79, 80, 81, 83, 86, 88, 89, 91, 92, 93, 94, 95, 96, 99}\n",
      "{3, 6, 7, 8, 9, 10, 11, 12, 13, 14, 15, 16, 17, 19, 20, 21, 22, 23, 24, 25, 26, 27, 28, 29, 30, 31, 32, 33, 34, 35, 37, 38, 39, 40, 41, 42, 43, 44, 45, 46, 47, 48, 49, 50, 51, 52, 53, 54, 56, 59, 60, 62, 64, 65, 66, 67, 68, 69, 70, 72, 73, 74, 75, 76, 78, 79, 80, 81, 83, 86, 88, 89, 91, 92, 93, 94, 95, 96, 99}\n"
     ]
    }
   ],
   "source": [
    "print(set1)\n",
    "\n",
    "set1 = list(set1)\n",
    "\n",
    "set1.pop(0)\n",
    "\n",
    "print(set(set1))"
   ]
  },
  {
   "cell_type": "markdown",
   "metadata": {},
   "source": [
    "#### Remove every element in the following list from `set1` if they are present in the set. Print the remaining elements.\n",
    "\n",
    "```\n",
    "list_to_remove = [1, 9, 11, 19, 21, 29, 31, 39, 41, 49, 51, 59, 61, 69, 71, 79, 81, 89, 91, 99]\n",
    "```"
   ]
  },
  {
   "cell_type": "code",
   "execution_count": 20,
   "metadata": {},
   "outputs": [
    {
     "name": "stdout",
     "output_type": "stream",
     "text": [
      "{3, 6, 7, 8, 10, 12, 13, 14, 15, 16, 17, 20, 22, 23, 24, 25, 26, 27, 28, 30, 32, 33, 34, 35, 37, 38, 40, 42, 43, 44, 45, 46, 47, 48, 50, 52, 53, 54, 56, 60, 62, 64, 65, 66, 67, 68, 70, 72, 73, 74, 75, 76, 78, 80, 83, 86, 88, 92, 93, 94, 95, 96}\n"
     ]
    }
   ],
   "source": [
    "list_to_remove = [1, 9, 11, 19, 21, 29, 31, 39, 41, 49, 51, 59, 61, 69, 71, 79, 81, 89, 91, 99]\n",
    "set1 = list(set1)\n",
    "\n",
    "for i in list_to_remove:\n",
    "    if i in set1:\n",
    "        set1.remove(i)\n",
    "        \n",
    "set1 = set(set1)\n",
    "\n",
    "print(set1)\n"
   ]
  }
 ],
 "metadata": {
  "kernelspec": {
   "display_name": "Python 3",
   "language": "python",
   "name": "python3"
  },
  "language_info": {
   "codemirror_mode": {
    "name": "ipython",
    "version": 3
   },
   "file_extension": ".py",
   "mimetype": "text/x-python",
   "name": "python",
   "nbconvert_exporter": "python",
   "pygments_lexer": "ipython3",
   "version": "3.8.8"
  }
 },
 "nbformat": 4,
 "nbformat_minor": 2
}
